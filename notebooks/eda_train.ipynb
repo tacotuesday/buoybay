{
 "cells": [
  {
   "cell_type": "code",
   "execution_count": 8,
   "metadata": {},
   "outputs": [],
   "source": [
    "import os\n",
    "import json\n",
    "import numpy as np\n",
    "import pandas as pd\n",
    "import requests\n",
    "import datetime\n",
    "\n",
    "from dotenv import load_dotenv\n",
    "from google.cloud import storage"
   ]
  },
  {
   "cell_type": "code",
   "execution_count": 9,
   "metadata": {},
   "outputs": [],
   "source": [
    "load_dotenv()\n",
    "api_key = os.getenv(\"CBIBS_API_KEY\")\n",
    "if not api_key:\n",
    "    raise ValueError(\"No API key found. Please check your .env file.\")"
   ]
  },
  {
   "cell_type": "markdown",
   "metadata": {},
   "source": [
    "The CBIBS API takes a handful of parameters:\n",
    "- `key` (required): Your API key\n",
    "- `var`: Variable required, can be `all`.\n",
    "- `sd`: Start date, ISO8601 format (e.g. `2024-07-05T00:00:00Z`)\n",
    "- `ed`: End date, ISO8601 format (e.g. `2024-07-06T01:00:00Z`)\n",
    "\n",
    "An example query would look like this:\n",
    "```\n",
    "https://mw.buoybay.noaa.gov/api/v1/json/query/AN?key=<<api_key>>&sd=2020-04-01T10:00:00z&ed=2020-04-01T20:00:00z&var=sea_water_temperature\n",
    "```\n",
    "\n",
    "I'm most interested in Potomac, the `PL` station."
   ]
  },
  {
   "cell_type": "code",
   "execution_count": 21,
   "metadata": {},
   "outputs": [
    {
     "name": "stdout",
     "output_type": "stream",
     "text": [
      "https://mw.buoybay.noaa.gov/api/v1/json/query/PL?key=f159959c117f473477edbdf3245cc2a4831ac61f&sd=2024-07-01T00:00:00Z&ed=2024-07-06T14:28:36.197918Z&var=all\n"
     ]
    }
   ],
   "source": [
    "def concat_url(key, station, sd, var='all', ed=f'{datetime.datetime.now().isoformat()}Z'):\n",
    "    url = f\"https://mw.buoybay.noaa.gov/api/v1/json/query/{station}?key={key}&sd={sd}&var={var}\"\n",
    "    print(url)\n",
    "    return\n",
    "\n",
    "concat_url(api_key, 'PL', sd='2024-07-01T00:00:00Z')"
   ]
  },
  {
   "cell_type": "code",
   "execution_count": 6,
   "metadata": {},
   "outputs": [
    {
     "name": "stdout",
     "output_type": "stream",
     "text": [
      "f159959c117f473477edbdf3245cc2a4831ac61f\n"
     ]
    }
   ],
   "source": [
    "def query_cbibs(key, station, var='all', sd, ed=None):\n",
    "    api_url = f\"https://mw.buoybay.noaa.gov/api/v1/json/query/{station}?key={key}&sd={sd}&ed={ed}&var={var}\"\n",
    "    print(api_url)\n",
    "    response = requests.get(api_url)\n",
    "    data = response.json()\n",
    "    df = pd.DataFrame(data)\n",
    "    return df"
   ]
  }
 ],
 "metadata": {
  "kernelspec": {
   "display_name": "buoybay",
   "language": "python",
   "name": "python3"
  },
  "language_info": {
   "codemirror_mode": {
    "name": "ipython",
    "version": 3
   },
   "file_extension": ".py",
   "mimetype": "text/x-python",
   "name": "python",
   "nbconvert_exporter": "python",
   "pygments_lexer": "ipython3",
   "version": "3.11.9"
  }
 },
 "nbformat": 4,
 "nbformat_minor": 2
}

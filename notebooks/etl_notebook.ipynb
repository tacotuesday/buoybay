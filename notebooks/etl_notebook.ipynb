{
 "cells": [
  {
   "cell_type": "code",
   "execution_count": 96,
   "metadata": {},
   "outputs": [],
   "source": [
    "import os\n",
    "import json\n",
    "import numpy as np\n",
    "import pandas as pd\n",
    "import requests\n",
    "import datetime\n",
    "\n",
    "from dotenv import load_dotenv\n",
    "from google.cloud import storage"
   ]
  },
  {
   "cell_type": "code",
   "execution_count": 97,
   "metadata": {},
   "outputs": [],
   "source": [
    "# Load the API key\n",
    "load_dotenv()\n",
    "api_key = os.getenv(\"CBIBS_API_KEY\")\n",
    "if not api_key:\n",
    "    raise ValueError(\"No API key found. Please check your .env file.\")"
   ]
  },
  {
   "cell_type": "markdown",
   "metadata": {},
   "source": [
    "The CBIBS API takes a handful of parameters:\n",
    "- `key` (required): Your API key\n",
    "- `var`: Variable required, can be `all`.\n",
    "- `sd`: Start date, ISO8601 format (e.g. `2024-07-05T00:00:00Z`)\n",
    "- `ed`: End date, ISO8601 format (e.g. `2024-07-06T01:00:00Z`)\n",
    "\n",
    "An example query would look like this:\n",
    "```\n",
    "https://mw.buoybay.noaa.gov/api/v1/json/query/AN?key=<<api_key>>&sd=2020-04-01T10:00:00z&ed=2020-04-01T20:00:00z&var=sea_water_temperature\n",
    "```\n",
    "\n",
    "I'm most interested in Potomac, the `PL` station."
   ]
  },
  {
   "cell_type": "code",
   "execution_count": 98,
   "metadata": {},
   "outputs": [],
   "source": [
    "# Create a function to query the CBIBS API\n",
    "def query_cbibs(\n",
    "    station, sd, key=api_key, ed=f\"{datetime.datetime.now().isoformat()}Z\", var=\"all\"\n",
    "):\n",
    "    api_url = f\"https://mw.buoybay.noaa.gov/api/v1/json/query/{station}?key={key}&sd={sd}&ed={ed}&var={var}\"\n",
    "    print(api_url)\n",
    "    response = requests.get(api_url)\n",
    "    data = response.json()\n",
    "\n",
    "    # List of relevant variables\n",
    "    relevant_variables = [\n",
    "        \"air_pressure\",\n",
    "        \"air_temperature\",\n",
    "        \"wind_speed\",\n",
    "        \"wind_speed_of_gust\",\n",
    "        \"wind_from_direction\",\n",
    "        \"relative_humidity\",\n",
    "        \"latitude_decimal\",\n",
    "        \"longitude_decimal\",\n",
    "        \"sea_water_temperature\",\n",
    "        \"sea_water_electrical_conductivity\",\n",
    "        \"mml_avg_nitrates\",\n",
    "        \"simple_turbidity\",\n",
    "        \"seanettle_prob\",\n",
    "        \"mass_concentration_of_chlorophyll_in_sea_water\",\n",
    "        \"mass_concentration_of_oxygen_in_sea_water\",\n",
    "        \"sea_water_salinity\",\n",
    "        \"sea_surface_wind_wave_period\",\n",
    "        \"wave_direction_spread\",\n",
    "        \"sea_surface_wave_from_direction\",\n",
    "        \"sea_surface_wave_significant_height\",\n",
    "        \"sea_surface_wave_mean_height\",\n",
    "    ]\n",
    "\n",
    "    # Extract the relevant part of the JSON response\n",
    "    stations_data = data[\"stations\"]\n",
    "\n",
    "    # Normalize the nested data\n",
    "    normalized_data = []\n",
    "    for station in stations_data:\n",
    "        for variable in station[\"variable\"]:\n",
    "            if variable[\"actualName\"] in relevant_variables:\n",
    "                variable_info = {\n",
    "                    \"actualName\": variable[\"actualName\"]\n",
    "                }\n",
    "                for measurement in variable[\"measurements\"]:\n",
    "                    measurement_info = {\n",
    "                        \"time\": measurement[\"time\"],\n",
    "                        \"value\": measurement[\"value\"],\n",
    "                    }\n",
    "                    # Combine all the information into one dictionary\n",
    "                    combined_info = {\n",
    "                        **variable_info,\n",
    "                        **measurement_info,\n",
    "                    }\n",
    "                    normalized_data.append(combined_info)\n",
    "\n",
    "    # Convert the normalized data into a DataFrame\n",
    "    df = pd.DataFrame(normalized_data)\n",
    "    \n",
    "    return df"
   ]
  },
  {
   "cell_type": "code",
   "execution_count": 99,
   "metadata": {},
   "outputs": [
    {
     "name": "stdout",
     "output_type": "stream",
     "text": [
      "https://mw.buoybay.noaa.gov/api/v1/json/query/PL?key=f159959c117f473477edbdf3245cc2a4831ac61f&sd=2024-07-05T00:00:00Z&ed=2024-07-06T16:14:59.642620Z&var=all\n"
     ]
    }
   ],
   "source": [
    "df = query_cbibs(\"PL\", \"2024-07-05T00:00:00Z\")"
   ]
  },
  {
   "cell_type": "code",
   "execution_count": 113,
   "metadata": {},
   "outputs": [],
   "source": [
    "pivoted_df = df.pivot(index=\"time\", columns=\"actualName\", values=\"value\").sort_index()"
   ]
  },
  {
   "cell_type": "code",
   "execution_count": 115,
   "metadata": {},
   "outputs": [
    {
     "data": {
      "text/plain": [
       "air_pressure                             0\n",
       "air_temperature                          0\n",
       "sea_surface_wave_from_direction          3\n",
       "sea_surface_wave_significant_height      3\n",
       "sea_surface_wind_wave_period             3\n",
       "sea_water_electrical_conductivity        0\n",
       "sea_water_salinity                       0\n",
       "sea_water_temperature                    0\n",
       "seanettle_prob                           0\n",
       "wind_from_direction                    385\n",
       "wind_speed                             385\n",
       "wind_speed_of_gust                     385\n",
       "dtype: int64"
      ]
     },
     "execution_count": 115,
     "metadata": {},
     "output_type": "execute_result"
    }
   ],
   "source": [
    "pivot_df.isna().sum()"
   ]
  },
  {
   "cell_type": "code",
   "execution_count": 104,
   "metadata": {},
   "outputs": [],
   "source": [
    "pivoted_df[[\"wind_from_direction\", \"wind_speed\", \"wind_speed_of_gust\"]] = pivoted_df[\n",
    "    [\"wind_from_direction\", \"wind_speed\", \"wind_speed_of_gust\"]\n",
    "].fillna(value=0)\n",
    "pivoted_df = pivoted_df.interpolate()"
   ]
  },
  {
   "cell_type": "code",
   "execution_count": 106,
   "metadata": {},
   "outputs": [],
   "source": [
    "pivoted_df = pivoted_df.interpolate()"
   ]
  }
 ],
 "metadata": {
  "kernelspec": {
   "display_name": "buoybay",
   "language": "python",
   "name": "python3"
  },
  "language_info": {
   "codemirror_mode": {
    "name": "ipython",
    "version": 3
   },
   "file_extension": ".py",
   "mimetype": "text/x-python",
   "name": "python",
   "nbconvert_exporter": "python",
   "pygments_lexer": "ipython3",
   "version": "3.11.9"
  }
 },
 "nbformat": 4,
 "nbformat_minor": 2
}
